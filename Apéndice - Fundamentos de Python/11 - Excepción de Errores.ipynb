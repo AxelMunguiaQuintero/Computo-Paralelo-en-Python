{
 "cells": [
  {
   "cell_type": "markdown",
   "id": "5aaf5ce0",
   "metadata": {},
   "source": [
    "<div style=\"overflow: hidden; margin-right: 50px;\">\n",
    "<img src=\"recursos/python.png\" alt=\"Python\" style=\"float: right; margin-left: 20px; margin-top: 10px;\" width=\"130\"/>\n",
    "<h1 style=\"text-align: justify;\">Excepción de Errores</h1>\n",
    "<p style=\"text-align: justify;\">\n",
    "\n",
    "En Python, una excepción se refiere a un evento disruptivo que emerge mientras un programa está corriendo, alterando así su secuencia de ejecución habitual. Este tipo de eventos pueden originarse debido a fallos en el código o situaciones inusuales que ocurren mientras el programa está en funcionamiento.\n",
    "\n",
    "</p>\n",
    "</div>"
   ]
  },
  {
   "cell_type": "markdown",
   "id": "6fc341a0",
   "metadata": {},
   "source": [
    "### TypeError"
   ]
  },
  {
   "cell_type": "code",
   "execution_count": 1,
   "id": "873d2055",
   "metadata": {},
   "outputs": [
    {
     "name": "stdout",
     "output_type": "stream",
     "text": [
      "¡Error de tipo de datos incompatibles! Error -> can only concatenate str (not \"int\") to str\n"
     ]
    }
   ],
   "source": [
    "try:\n",
    "    suma = \"cadena de texto\" + 10\n",
    "except TypeError as error:\n",
    "    print(f\"¡Error de tipo de datos incompatibles! Error -> {error}\")"
   ]
  },
  {
   "cell_type": "markdown",
   "id": "5984749b",
   "metadata": {},
   "source": [
    "### ZeroDivisionError"
   ]
  },
  {
   "cell_type": "code",
   "execution_count": 2,
   "id": "186f09eb",
   "metadata": {},
   "outputs": [
    {
     "name": "stdout",
     "output_type": "stream",
     "text": [
      "¡División por cero no es posible! Error -> division by zero\n"
     ]
    }
   ],
   "source": [
    "try:\n",
    "    resultado = 10 / 0\n",
    "except ZeroDivisionError as error:\n",
    "    print(f\"¡División por cero no es posible! Error -> {error}\")"
   ]
  },
  {
   "cell_type": "markdown",
   "id": "80e23ee7",
   "metadata": {},
   "source": [
    "### OverflowError"
   ]
  },
  {
   "cell_type": "code",
   "execution_count": 3,
   "id": "fb329977",
   "metadata": {},
   "outputs": [
    {
     "name": "stdout",
     "output_type": "stream",
     "text": [
      "¡Error de overflow Numérico! Error -> (34, 'Result too large')\n"
     ]
    }
   ],
   "source": [
    "try:\n",
    "    calculo = 2.65 ** 25665\n",
    "except OverflowError as error:\n",
    "    print(f\"¡Error de overflow Numérico! Error -> {error}\")"
   ]
  },
  {
   "cell_type": "markdown",
   "id": "5bf6b691",
   "metadata": {},
   "source": [
    "### ValueError"
   ]
  },
  {
   "cell_type": "code",
   "execution_count": 4,
   "id": "d2d34c16",
   "metadata": {},
   "outputs": [
    {
     "name": "stdout",
     "output_type": "stream",
     "text": [
      "¡Error de valor incorrecto! Error -> invalid literal for int() with base 10: 'abc'\n"
     ]
    }
   ],
   "source": [
    "try:\n",
    "    num = int(\"abc\")\n",
    "except ValueError as error:\n",
    "    print(f\"¡Error de valor incorrecto! Error -> {error}\")"
   ]
  },
  {
   "cell_type": "markdown",
   "id": "205826ca",
   "metadata": {},
   "source": [
    "### IndexError"
   ]
  },
  {
   "cell_type": "code",
   "execution_count": 5,
   "id": "cb3e0987",
   "metadata": {},
   "outputs": [
    {
     "name": "stdout",
     "output_type": "stream",
     "text": [
      "¡Error de índice fuera de rango! Error -> list index out of range\n"
     ]
    }
   ],
   "source": [
    "try:\n",
    "    lista = [1, 2, 3]\n",
    "    elemento = lista[10]\n",
    "except IndexError as error:\n",
    "    print(f\"¡Error de índice fuera de rango! Error -> {error}\")"
   ]
  },
  {
   "cell_type": "markdown",
   "id": "f831c1f4",
   "metadata": {},
   "source": [
    "### NameError"
   ]
  },
  {
   "cell_type": "code",
   "execution_count": 6,
   "id": "adf185f7",
   "metadata": {},
   "outputs": [
    {
     "name": "stdout",
     "output_type": "stream",
     "text": [
      "Error de nombre no definido. Error -> name 'variable_inexistente' is not defined\n"
     ]
    }
   ],
   "source": [
    "try:\n",
    "    print(variable_inexistente)\n",
    "except NameError as error:\n",
    "    print(\"Error de nombre no definido. Error ->\", error)"
   ]
  },
  {
   "cell_type": "markdown",
   "id": "916fb4e9",
   "metadata": {},
   "source": [
    "### ModuleNotFoundError"
   ]
  },
  {
   "cell_type": "code",
   "execution_count": 7,
   "id": "89d9d853",
   "metadata": {},
   "outputs": [
    {
     "name": "stdout",
     "output_type": "stream",
     "text": [
      "¡Error de importación de Modulo! Error -> No module named 'modulo_inexistente'\n"
     ]
    }
   ],
   "source": [
    "try:\n",
    "    import modulo_inexistente\n",
    "except ImportError as error:\n",
    "    print(f\"¡Error de importación de Modulo! Error ->\", error)"
   ]
  },
  {
   "cell_type": "markdown",
   "id": "c6e8b969",
   "metadata": {},
   "source": [
    "### KeyError"
   ]
  },
  {
   "cell_type": "code",
   "execution_count": 8,
   "id": "2c9c1a09",
   "metadata": {},
   "outputs": [
    {
     "name": "stdout",
     "output_type": "stream",
     "text": [
      "¡Error de clave inexistente en el diccionario! Error -> 'd'\n"
     ]
    }
   ],
   "source": [
    "try:\n",
    "    diccionario = {\"a\": 1, \"b\": 2, \"c\": 3}\n",
    "    valor = diccionario[\"d\"]\n",
    "except KeyError as error:\n",
    "    print(f\"¡Error de clave inexistente en el diccionario! Error -> {error}\")"
   ]
  },
  {
   "cell_type": "markdown",
   "id": "80c0e61c",
   "metadata": {},
   "source": [
    "### FileNotFoundError"
   ]
  },
  {
   "cell_type": "code",
   "execution_count": 9,
   "id": "5d18a495",
   "metadata": {},
   "outputs": [
    {
     "name": "stdout",
     "output_type": "stream",
     "text": [
      "Error de archivo no encontrado. Error ->  [Errno 2] No such file or directory: 'archivo_que_no_existe.txt'\n"
     ]
    }
   ],
   "source": [
    "try:\n",
    "    with open(\"archivo_que_no_existe.txt\", \"r\") as archivo:\n",
    "        contenido = archivo.read()\n",
    "except FileNotFoundError as error:\n",
    "    print(\"Error de archivo no encontrado. Error -> \", error)"
   ]
  },
  {
   "cell_type": "markdown",
   "id": "b42b9275",
   "metadata": {},
   "source": [
    "### Exception"
   ]
  },
  {
   "cell_type": "code",
   "execution_count": 10,
   "id": "454cdfc6",
   "metadata": {},
   "outputs": [
    {
     "name": "stdout",
     "output_type": "stream",
     "text": [
      "Error de ejecución: can only concatenate str (not \"int\") to str\n"
     ]
    }
   ],
   "source": [
    "try:\n",
    "    \"abc\" + 10\n",
    "except Exception as error:\n",
    "    print(\"Error de ejecución:\", error)"
   ]
  },
  {
   "cell_type": "markdown",
   "id": "e02d551f",
   "metadata": {},
   "source": [
    "### Múltiples errores en un solo bloque"
   ]
  },
  {
   "cell_type": "code",
   "execution_count": 11,
   "id": "501c5280",
   "metadata": {},
   "outputs": [
    {
     "name": "stdout",
     "output_type": "stream",
     "text": [
      "Error de ejecución: can only concatenate str (not \"int\") to str\n"
     ]
    }
   ],
   "source": [
    "try: \n",
    "    \"abc\" + 10\n",
    "except ZeroDivisionError as error:\n",
    "    print(error)\n",
    "except (OverflowError, IndexError, FileNotFoundError) as error:\n",
    "    print(error)\n",
    "except Exception as error:\n",
    "    print(\"Error de ejecución:\", error)"
   ]
  }
 ],
 "metadata": {
  "kernelspec": {
   "display_name": "Python 3 (ipykernel)",
   "language": "python",
   "name": "python3"
  },
  "language_info": {
   "codemirror_mode": {
    "name": "ipython",
    "version": 3
   },
   "file_extension": ".py",
   "mimetype": "text/x-python",
   "name": "python",
   "nbconvert_exporter": "python",
   "pygments_lexer": "ipython3",
   "version": "3.11.5"
  }
 },
 "nbformat": 4,
 "nbformat_minor": 5
}
